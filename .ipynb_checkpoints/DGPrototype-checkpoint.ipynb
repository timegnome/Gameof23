{
 "cells": [
  {
   "cell_type": "code",
   "execution_count": 1,
   "metadata": {},
   "outputs": [],
   "source": [
    "import requests\n",
    "import json"
   ]
  },
  {
   "cell_type": "code",
   "execution_count": 22,
   "metadata": {},
   "outputs": [],
   "source": [
    "vNum = 0\n",
    "api_key = 'ad71a4db69e22e2ed5a65fe17e5dfa9cc7c9dfc5504631e1407539d0630933d4'\n",
    "method = f'LookupGameById?apikey={api_key}&gameid?'\n",
    "path = f'http://api.esportsearnings.com/v{vNum}/{method}'\n",
    "\n",
    "test = requests.get(path)"
   ]
  },
  {
   "cell_type": "code",
   "execution_count": 24,
   "metadata": {},
   "outputs": [
    {
     "data": {
      "text/plain": [
       "{'GameName': None,\n",
       " 'TotalUSDPrize': None,\n",
       " 'TotalTournaments': None,\n",
       " 'TotalPlayers': None}"
      ]
     },
     "execution_count": 24,
     "metadata": {},
     "output_type": "execute_result"
    }
   ],
   "source": [
    "test.json()"
   ]
  },
  {
   "cell_type": "code",
   "execution_count": 18,
   "metadata": {},
   "outputs": [],
   "source": [
    "test2 = requests.get('https://twitchtracker.com/')"
   ]
  },
  {
   "cell_type": "code",
   "execution_count": 19,
   "metadata": {},
   "outputs": [
    {
     "data": {
      "text/plain": [
       "<Response [520]>"
      ]
     },
     "execution_count": 19,
     "metadata": {},
     "output_type": "execute_result"
    }
   ],
   "source": [
    "test2"
   ]
  },
  {
   "cell_type": "code",
   "execution_count": 7,
   "metadata": {},
   "outputs": [],
   "source": [
    "from itertools import combinations\n",
    "from math import factorial\n",
    "def nPr(n, r):\n",
    "    return int(math.factorial(n)/math.factorial(n-r))\n",
    "def nCr(n, r):\n",
    "    return int(math.factorial(n)/(math.factorial(n-r))*math.factorial(r))"
   ]
  },
  {
   "cell_type": "code",
   "execution_count": 8,
   "metadata": {},
   "outputs": [
    {
     "ename": "NameError",
     "evalue": "name 'math' is not defined",
     "output_type": "error",
     "traceback": [
      "\u001b[1;31m---------------------------------------------------------------------------\u001b[0m",
      "\u001b[1;31mNameError\u001b[0m                                 Traceback (most recent call last)",
      "\u001b[1;32m<ipython-input-8-6bb321c8cbac>\u001b[0m in \u001b[0;36m<module>\u001b[1;34m\u001b[0m\n\u001b[1;32m----> 1\u001b[1;33m \u001b[0mprint\u001b[0m\u001b[1;33m(\u001b[0m\u001b[1;34mf'At least {nPr(11,4)*nCr(4,2)*4*nCr(3,2)*4} of iterations'\u001b[0m\u001b[1;33m)\u001b[0m\u001b[1;33m\u001b[0m\u001b[1;33m\u001b[0m\u001b[0m\n\u001b[0m",
      "\u001b[1;32m<ipython-input-7-c9025a50e24e>\u001b[0m in \u001b[0;36mnPr\u001b[1;34m(n, r)\u001b[0m\n\u001b[0;32m      2\u001b[0m \u001b[1;32mfrom\u001b[0m \u001b[0mmath\u001b[0m \u001b[1;32mimport\u001b[0m \u001b[0mfactorial\u001b[0m\u001b[1;33m\u001b[0m\u001b[1;33m\u001b[0m\u001b[0m\n\u001b[0;32m      3\u001b[0m \u001b[1;32mdef\u001b[0m \u001b[0mnPr\u001b[0m\u001b[1;33m(\u001b[0m\u001b[0mn\u001b[0m\u001b[1;33m,\u001b[0m \u001b[0mr\u001b[0m\u001b[1;33m)\u001b[0m\u001b[1;33m:\u001b[0m\u001b[1;33m\u001b[0m\u001b[1;33m\u001b[0m\u001b[0m\n\u001b[1;32m----> 4\u001b[1;33m     \u001b[1;32mreturn\u001b[0m \u001b[0mint\u001b[0m\u001b[1;33m(\u001b[0m\u001b[0mmath\u001b[0m\u001b[1;33m.\u001b[0m\u001b[0mfactorial\u001b[0m\u001b[1;33m(\u001b[0m\u001b[0mn\u001b[0m\u001b[1;33m)\u001b[0m\u001b[1;33m/\u001b[0m\u001b[0mmath\u001b[0m\u001b[1;33m.\u001b[0m\u001b[0mfactorial\u001b[0m\u001b[1;33m(\u001b[0m\u001b[0mn\u001b[0m\u001b[1;33m-\u001b[0m\u001b[0mr\u001b[0m\u001b[1;33m)\u001b[0m\u001b[1;33m)\u001b[0m\u001b[1;33m\u001b[0m\u001b[1;33m\u001b[0m\u001b[0m\n\u001b[0m\u001b[0;32m      5\u001b[0m \u001b[1;32mdef\u001b[0m \u001b[0mnCr\u001b[0m\u001b[1;33m(\u001b[0m\u001b[0mn\u001b[0m\u001b[1;33m,\u001b[0m \u001b[0mr\u001b[0m\u001b[1;33m)\u001b[0m\u001b[1;33m:\u001b[0m\u001b[1;33m\u001b[0m\u001b[1;33m\u001b[0m\u001b[0m\n\u001b[0;32m      6\u001b[0m     \u001b[1;32mreturn\u001b[0m \u001b[0mint\u001b[0m\u001b[1;33m(\u001b[0m\u001b[0mmath\u001b[0m\u001b[1;33m.\u001b[0m\u001b[0mfactorial\u001b[0m\u001b[1;33m(\u001b[0m\u001b[0mn\u001b[0m\u001b[1;33m)\u001b[0m\u001b[1;33m/\u001b[0m\u001b[1;33m(\u001b[0m\u001b[0mmath\u001b[0m\u001b[1;33m.\u001b[0m\u001b[0mfactorial\u001b[0m\u001b[1;33m(\u001b[0m\u001b[0mn\u001b[0m\u001b[1;33m-\u001b[0m\u001b[0mr\u001b[0m\u001b[1;33m)\u001b[0m\u001b[1;33m)\u001b[0m\u001b[1;33m*\u001b[0m\u001b[0mmath\u001b[0m\u001b[1;33m.\u001b[0m\u001b[0mfactorial\u001b[0m\u001b[1;33m(\u001b[0m\u001b[0mr\u001b[0m\u001b[1;33m)\u001b[0m\u001b[1;33m)\u001b[0m\u001b[1;33m\u001b[0m\u001b[1;33m\u001b[0m\u001b[0m\n",
      "\u001b[1;31mNameError\u001b[0m: name 'math' is not defined"
     ]
    }
   ],
   "source": [
    "print(f'At least {nPr(11,4)*nCr(4,2)*4*nCr(3,2)*4} of iterations')"
   ]
  },
  {
   "cell_type": "code",
   "execution_count": 9,
   "metadata": {},
   "outputs": [
    {
     "name": "stdout",
     "output_type": "stream",
     "text": [
      "[]\n"
     ]
    }
   ],
   "source": [
    "numbers = list(range(1,12))\n",
    "total = 0\n",
    "results = []\n",
    "combination = []\n",
    "comb = combinations(numbers,4) \n",
    "for perms in list(comb): \n",
    "    for x in range(4):\n",
    "        perms[0]\n",
    "        perms[0]\n",
    "        perms[0]\n",
    "        perms[1]\n",
    "        perms[1]\n",
    "        perms[2]\n",
    "    if total == 23:\n",
    "        results.append(combination)\n",
    "        combination = []\n",
    "print(results)"
   ]
  },
  {
   "cell_type": "code",
   "execution_count": 64,
   "metadata": {},
   "outputs": [],
   "source": [
    "\n",
    "results = []\n",
    "twt = 23\n",
    "outputs = []\n",
    "operation = ['+','-','*','/']\n",
    "def combinaiton23(num, ret, oper, outputs):\n",
    "    if len(ret) == 4:\n",
    "        if num == 0:\n",
    "            outputs.append([ret,num])\n",
    "            return\n",
    "        else:\n",
    "            outputs.append([ret,num])\n",
    "            return \n",
    "    else:\n",
    "        for x in range(1,12):\n",
    "            for op in oper:\n",
    "                if op == '+':\n",
    "                    temp = ret.copy()\n",
    "                    temp.insert(0,([x,'-'])\n",
    "                    combinaiton23(num - x, temp, oper, outputs)\n",
    "                elif op == '-':\n",
    "                    temp = ret.copy()\n",
    "                    temp.insert(0,[x,'+'])\n",
    "                    combinaiton23(num + x, temp, oper, outputs)\n",
    "                elif op == '*':\n",
    "                    temp = ret.copy()\n",
    "                    temp.insert(0,[x,'/'])\n",
    "                    combinaiton23(num / x, temp, oper, outputs)\n",
    "                else:\n",
    "                    temp = ret.copy()\n",
    "                    temp.insert(0,[x,'*'])\n",
    "                    combinaiton23(num * x, temp, oper, outputs)\n",
    "\n",
    "# with open('results.txt', 'w') as file:\n",
    "combinaiton23(twt, results, operation, outputs)\n",
    "df = pd.DataFrame(outputs)"
   ]
  },
  {
   "cell_type": "code",
   "execution_count": 1,
   "metadata": {},
   "outputs": [],
   "source": [
    "import pandas as pd\n",
    "df = pd.read_csv('results.csv')"
   ]
  },
  {
   "cell_type": "code",
   "execution_count": 24,
   "metadata": {},
   "outputs": [],
   "source": [
    "correctdf = df.loc[df['1'] == 0].reset_index().drop(columns = ['index','1'])\n",
    "correctdf = correctdf.rename(columns ={'0':'Answers'})"
   ]
  },
  {
   "cell_type": "code",
   "execution_count": 30,
   "metadata": {},
   "outputs": [
    {
     "data": {
      "text/plain": [
       "\"[[1, '-'], [1, '-'], [3, '/'], [7, '-']]\""
      ]
     },
     "execution_count": 30,
     "metadata": {},
     "output_type": "execute_result"
    }
   ],
   "source": [
    "correctdf['Answers'][0]\n",
    "lastdf = pd.DataFrame(columns = ['Num1','Oper1',\n",
    "                    'Num2','Oper2','Num3','Oper3','Num4','Oper4'])\n",
    "for ans in correctdf['Answers']:\n",
    "    lastdf = lastdf.append({'Num1' : ans[0][0],'Oper1' : ans[0][1],\n",
    "                'Num2' : ans[1][1],'Oper2' : ans[1][1],\n",
    "                'Num3' : ans[2][1],'Oper3' : ans[2][1],\n",
    "                'Num4' : ans[3][1],'Oper4' : ans[3][1]},ignore_index=True)\n",
    "lastdf.to_csv('results.csv')"
   ]
  },
  {
   "cell_type": "code",
   "execution_count": 56,
   "metadata": {},
   "outputs": [
    {
     "data": {
      "text/html": [
       "<div>\n",
       "<style scoped>\n",
       "    .dataframe tbody tr th:only-of-type {\n",
       "        vertical-align: middle;\n",
       "    }\n",
       "\n",
       "    .dataframe tbody tr th {\n",
       "        vertical-align: top;\n",
       "    }\n",
       "\n",
       "    .dataframe thead th {\n",
       "        text-align: right;\n",
       "    }\n",
       "</style>\n",
       "<table border=\"1\" class=\"dataframe\">\n",
       "  <thead>\n",
       "    <tr style=\"text-align: right;\">\n",
       "      <th></th>\n",
       "      <th>Num1</th>\n",
       "      <th>Oper1</th>\n",
       "      <th>Num2</th>\n",
       "      <th>Oper2</th>\n",
       "      <th>Num3</th>\n",
       "      <th>Oper3</th>\n",
       "      <th>Num4</th>\n",
       "      <th>Oper4</th>\n",
       "    </tr>\n",
       "  </thead>\n",
       "  <tbody>\n",
       "  </tbody>\n",
       "</table>\n",
       "</div>"
      ],
      "text/plain": [
       "Empty DataFrame\n",
       "Columns: [Num1, Oper1, Num2, Oper2, Num3, Oper3, Num4, Oper4]\n",
       "Index: []"
      ]
     },
     "execution_count": 56,
     "metadata": {},
     "output_type": "execute_result"
    }
   ],
   "source": [
    "import pandas as pd\n",
    "df = pd.read_csv('results.csv')\n",
    "df"
   ]
  },
  {
   "cell_type": "code",
   "execution_count": null,
   "metadata": {},
   "outputs": [],
   "source": []
  }
 ],
 "metadata": {
  "kernelspec": {
   "display_name": "Python 3",
   "language": "python",
   "name": "python3"
  },
  "language_info": {
   "codemirror_mode": {
    "name": "ipython",
    "version": 3
   },
   "file_extension": ".py",
   "mimetype": "text/x-python",
   "name": "python",
   "nbconvert_exporter": "python",
   "pygments_lexer": "ipython3",
   "version": "3.7.6"
  }
 },
 "nbformat": 4,
 "nbformat_minor": 4
}
