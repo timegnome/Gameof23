{
 "cells": [
  {
   "cell_type": "code",
   "execution_count": 1,
   "metadata": {},
   "outputs": [],
   "source": [
    "import requests\n",
    "import json\n",
    "\n",
    "vNum = 0\n",
    "api_key = 'ad71a4db69e22e2ed5a65fe17e5dfa9cc7c9dfc5504631e1407539d0630933d4'\n",
    "method = f'LookupGameById?apikey={api_key}&gameid?'\n",
    "path = f'http://api.esportsearnings.com/v{vNum}/{method}'\n",
    "\n",
    "test = requests.get(path)\n",
    "\n",
    "test.json()\n",
    "\n",
    "test2 = requests.get('https://twitchtracker.com/')\n",
    "\n",
    "test2"
   ]
  },
  {
   "cell_type": "code",
   "execution_count": 7,
   "metadata": {},
   "outputs": [],
   "source": [
    "from itertools import combinations\n",
    "from math import factorial\n",
    "def nPr(n, r):\n",
    "    return int(math.factorial(n)/math.factorial(n-r))\n",
    "def nCr(n, r):\n",
    "    return int(math.factorial(n)/(math.factorial(n-r))*math.factorial(r))\n",
    "\n",
    "print(f'At least {nPr(11,4)*nCr(4,2)*4*nCr(3,2)*4} of iterations')"
   ]
  },
  {
   "cell_type": "code",
   "execution_count": 9,
   "metadata": {},
   "outputs": [
    {
     "name": "stdout",
     "output_type": "stream",
     "text": [
      "[]\n"
     ]
    }
   ],
   "source": [
    "numbers = list(range(1,12))\n",
    "total = 0\n",
    "results = []\n",
    "combination = []\n",
    "comb = combinations(numbers,4) \n",
    "for perms in list(comb): \n",
    "    for x in range(4):\n",
    "        perms[0]\n",
    "        perms[0]\n",
    "        perms[0]\n",
    "        perms[1]\n",
    "        perms[1]\n",
    "        perms[2]\n",
    "    if total == 23:\n",
    "        results.append(combination)\n",
    "        combination = []\n",
    "print(results)"
   ]
  },
  {
   "cell_type": "code",
   "execution_count": 6,
   "metadata": {},
   "outputs": [],
   "source": [
    "\n",
    "results = []\n",
    "twt = 23\n",
    "outputs = []\n",
    "operation = ['+','-','*','/']\n",
    "def combinaiton23(num, ret, oper, outputs):\n",
    "    if len(ret) == 4:\n",
    "        if num == 0:\n",
    "            outputs.append([ret,num])\n",
    "            return\n",
    "        else:\n",
    "            outputs.append([ret,num])\n",
    "            return \n",
    "    else:\n",
    "        for x in range(1,12):\n",
    "            for op in oper:\n",
    "                if op == '+':\n",
    "                    temp = ret.copy()\n",
    "                    temp.append([x,'+'])\n",
    "                    combinaiton23(num - x, temp, oper, outputs)\n",
    "                elif op == '-':\n",
    "                    temp = ret.copy()\n",
    "                    temp.append([x,'-'])\n",
    "                    combinaiton23(num + x, temp, oper, outputs)\n",
    "                elif op == '*':\n",
    "                    temp = ret.copy()\n",
    "                    temp.append([x,'*'])\n",
    "                    combinaiton23(num / x, temp, oper, outputs)\n",
    "                else:\n",
    "                    temp = ret.copy()\n",
    "                    temp.append([x,'/'])\n",
    "                    combinaiton23(num * x, temp, oper, outputs)\n",
    "\n",
    "# with open('results.txt', 'w') as file:\n",
    "combinaiton23(twt, results, operation, outputs)\n",
    "df = pd.DataFrame(outputs)"
   ]
  },
  {
   "cell_type": "code",
   "execution_count": 5,
   "metadata": {},
   "outputs": [
    {
     "data": {
      "text/html": [
       "<div>\n",
       "<style scoped>\n",
       "    .dataframe tbody tr th:only-of-type {\n",
       "        vertical-align: middle;\n",
       "    }\n",
       "\n",
       "    .dataframe tbody tr th {\n",
       "        vertical-align: top;\n",
       "    }\n",
       "\n",
       "    .dataframe thead th {\n",
       "        text-align: right;\n",
       "    }\n",
       "</style>\n",
       "<table border=\"1\" class=\"dataframe\">\n",
       "  <thead>\n",
       "    <tr style=\"text-align: right;\">\n",
       "      <th></th>\n",
       "      <th>Num1</th>\n",
       "      <th>Oper1</th>\n",
       "      <th>Num2</th>\n",
       "      <th>Oper2</th>\n",
       "      <th>Num3</th>\n",
       "      <th>Oper3</th>\n",
       "      <th>Num4</th>\n",
       "      <th>Oper4</th>\n",
       "    </tr>\n",
       "  </thead>\n",
       "  <tbody>\n",
       "  </tbody>\n",
       "</table>\n",
       "</div>"
      ],
      "text/plain": [
       "Empty DataFrame\n",
       "Columns: [Num1, Oper1, Num2, Oper2, Num3, Oper3, Num4, Oper4]\n",
       "Index: []"
      ]
     },
     "execution_count": 5,
     "metadata": {},
     "output_type": "execute_result"
    }
   ],
   "source": [
    "import pandas as pd\n",
    "df = pd.read_csv('results.csv')\n",
    "\n",
    "correctdf = df.loc[df[df.columns[1]] == 0].reset_index().drop(columns = ['index',df.columns[1]])\n",
    "correctdf = correctdf.rename(columns ={correctdf.columns[0]:'Answers'})\n",
    "lastdf = pd.DataFrame(columns = ['Num1','Oper1',\n",
    "                    'Num2','Oper2','Num3','Oper3','Num4','Oper4'])\n",
    "for ans in correctdf['Answers']:\n",
    "    lastdf = lastdf.append({'Num1' : ans[0][0],'Oper1' : ans[0][1],\n",
    "                'Num2' : ans[1][0],'Oper2' : ans[1][1],\n",
    "                'Num3' : ans[2][0],'Oper3' : ans[2][1],\n",
    "                'Num4' : ans[3][0],'Oper4' : ans[3][1]},ignore_index=True)\n",
    "lastdf.to_csv('results.csv', index = False)\n",
    "\n"
   ]
  },
  {
   "cell_type": "code",
   "execution_count": 72,
   "metadata": {},
   "outputs": [
    {
     "name": "stdout",
     "output_type": "stream",
     "text": [
      "[2, 2, 2, 2, 3, 3, 3, 3, 4, 4, 4, 4, 5, 5, 5, 5, 6, 6, 6, 6, 7, 7, 7, 7, 8, 8, 8, 8, 9, 9, 9, 9, 10, 10, 10, 10, 'J', 'J', 'J', 'J', 'Q', 'Q', 'Q', 'Q', 'K', 'K', 'K', 'K', 'A', 'A', 'A', 'A']\n"
     ]
    }
   ],
   "source": [
    "deck = [x for x in range(2,11) for y in range(4)]\n",
    "for royals in ['J','J','J','J','Q','Q','Q','Q','K','K','K','K','A','A','A','A']:\n",
    "    deck.append(royals)\n",
    "print(deck)"
   ]
  },
  {
   "cell_type": "code",
   "execution_count": 4,
   "metadata": {},
   "outputs": [
    {
     "data": {
      "text/html": [
       "<div>\n",
       "<style scoped>\n",
       "    .dataframe tbody tr th:only-of-type {\n",
       "        vertical-align: middle;\n",
       "    }\n",
       "\n",
       "    .dataframe tbody tr th {\n",
       "        vertical-align: top;\n",
       "    }\n",
       "\n",
       "    .dataframe thead th {\n",
       "        text-align: right;\n",
       "    }\n",
       "</style>\n",
       "<table border=\"1\" class=\"dataframe\">\n",
       "  <thead>\n",
       "    <tr style=\"text-align: right;\">\n",
       "      <th></th>\n",
       "      <th>Answers</th>\n",
       "      <th>Num2</th>\n",
       "      <th>Oper2</th>\n",
       "      <th>Num3</th>\n",
       "      <th>Oper3</th>\n",
       "      <th>Num4</th>\n",
       "      <th>Oper4</th>\n",
       "    </tr>\n",
       "  </thead>\n",
       "  <tbody>\n",
       "  </tbody>\n",
       "</table>\n",
       "</div>"
      ],
      "text/plain": [
       "Empty DataFrame\n",
       "Columns: [Answers, Num2, Oper2, Num3, Oper3, Num4, Oper4]\n",
       "Index: []"
      ]
     },
     "execution_count": 4,
     "metadata": {},
     "output_type": "execute_result"
    }
   ],
   "source": [
    "function shuffle(array) {\n",
    "  var m = array.length, t, i;\n",
    "\n",
    "  // While there remain elements to shuffle…\n",
    "  while (m) {\n",
    "\n",
    "    // Pick a remaining element…\n",
    "    i = Math.floor(Math.random() * m--);\n",
    "\n",
    "    // And swap it with the current element.\n",
    "    t = array[m];\n",
    "    array[m] = array[i];\n",
    "    array[i] = t;\n",
    "  }\n",
    "\n",
    "  return array;\n",
    "}"
   ]
  }
 ],
 "metadata": {
  "kernelspec": {
   "display_name": "Python 3",
   "language": "python",
   "name": "python3"
  },
  "language_info": {
   "codemirror_mode": {
    "name": "ipython",
    "version": 3
   },
   "file_extension": ".py",
   "mimetype": "text/x-python",
   "name": "python",
   "nbconvert_exporter": "python",
   "pygments_lexer": "ipython3",
   "version": "3.7.6"
  }
 },
 "nbformat": 4,
 "nbformat_minor": 4
}
